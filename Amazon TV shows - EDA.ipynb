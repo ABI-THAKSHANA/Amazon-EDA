{
  "nbformat": 4,
  "nbformat_minor": 0,
  "metadata": {
    "colab": {
      "private_outputs": true,
      "provenance": [],
      "collapsed_sections": [
        "w6K7xa23Elo4"
      ],
      "toc_visible": true
    },
    "kernelspec": {
      "name": "python3",
      "display_name": "Python 3"
    },
    "language_info": {
      "name": "python"
    }
  },
  "cells": [
    {
      "cell_type": "code",
      "source": [],
      "metadata": {
        "id": "I1apcow5dxii"
      },
      "execution_count": null,
      "outputs": []
    },
    {
      "cell_type": "markdown",
      "source": [
        "# **Project Name**    - Amazon TV shows-EDA\n",
        "\n"
      ],
      "metadata": {
        "id": "vncDsAP0Gaoa"
      }
    },
    {
      "cell_type": "markdown",
      "source": [
        "##### **Project Type**    - EDA\n",
        "##### **Contribution**    - Individual\n",
        "##### **Team Member 1 -** ABINETHRI T\n"
      ],
      "metadata": {
        "id": "beRrZCGUAJYm"
      }
    },
    {
      "cell_type": "markdown",
      "source": [
        "# **Project Summary -**"
      ],
      "metadata": {
        "id": "FJNUwmbgGyua"
      }
    },
    {
      "cell_type": "markdown",
      "source": [
        "This project aims to perform an Exploratory Data Analysis (EDA) on a dataset of amazon titles, including movies and TV shows. The analysis focuses on understanding the relationships between different variables, such as runtime, release year, genre, seasons, IMDb scores, and TMDb scores.\n",
        "\n",
        "Key Objectives:\n",
        "\n",
        "Data Understanding: Explore the dataset's structure, identify data types, and examine missing values and duplicates.\n",
        "Variable Analysis: Analyze individual variables and their distributions, including runtime, release year, genre, and seasons.\n",
        "Relationship Exploration: Investigate the relationships between variables using various visualization techniques, like bar plots, histograms, box plots, line plots, and violin plots.\n",
        "Insights and Business Impact: Derive meaningful insights from the visualizations and discuss their potential positive and negative impacts on business decisions, such as content strategy, recommendations, and marketing.\n",
        "Methodology:\n",
        "\n",
        "The project follows a structured EDA approach:\n",
        "\n",
        "Data Wrangling: Cleaning and preparing the data for analysis, including handling missing values, duplicates, and data type conversions.\n",
        "Univariate Analysis: Exploring individual variables to understand their distributions and characteristics.\n",
        "Bivariate Analysis: Examining relationships between two variables, such as runtime and release year, or genre and IMDb score.\n",
        "Multivariate Analysis: Investigating relationships involving more than two variables, such as runtime, genre, and seasons.\n",
        "Expected Outcomes:\n",
        "\n",
        "The project is expected to provide insights into:\n",
        "\n",
        "Trends in runtime, release year, and season length of Netflix titles.\n",
        "Relationships between genre, IMDb score, and TMDb score.\n",
        "Distribution of runtime by genre and seasons.\n",
        "Potential outliers and unusual patterns in the data.\n",
        "These insights can inform content strategy, personalize recommendations, optimize programming, and support targeted marketing efforts for amazon."
      ],
      "metadata": {
        "id": "F6v_1wHtG2nS"
      }
    },
    {
      "cell_type": "markdown",
      "source": [
        "# **GitHub Link -**"
      ],
      "metadata": {
        "id": "w6K7xa23Elo4"
      }
    },
    {
      "cell_type": "markdown",
      "source": [
        "https://github.com/ABI-THAKSHANA/Amazon-EDA-/upload/main"
      ],
      "metadata": {
        "id": "h1o69JH3Eqqn"
      }
    },
    {
      "cell_type": "markdown",
      "source": [
        "# **Problem Statement**\n"
      ],
      "metadata": {
        "id": "yQaldy8SH6Dl"
      }
    },
    {
      "cell_type": "markdown",
      "source": [
        "In the fiercely competitive streaming entertainment market, understanding audience preferences is paramount to success. Amazon, as a leading streaming platform, must continuously analyze its content library and identify trends to make informed decisions regarding content acquisition, production, and recommendation strategies. This project addresses the critical need for actionable insights from amazon's extensive catalog of titles to optimize content strategy and enhance user engagement.\n",
        "\n",
        "Uncover trends in runtime, release year, and season length, providing valuable insights into content consumption patterns.\n",
        "Analyze the performance of different genres based on IMDb and TMDb scores, identifying high-performing and underperforming categories.\n",
        "Investigate the relationship between runtime, genre, and number of seasons for TV shows, informing content planning and scheduling decisions.\n",
        "Detect outliers and unusual patterns in the data that may require further investigation.\n",
        "The insights derived from this analysis will empower amazon to:\n",
        "\n",
        "Refine content acquisition and production strategies, addressing content gaps and capitalizing on emerging trends.\n",
        "Enhance personalization by tailoring recommendations based on user preferences for runtime, genre, and other relevant factors.\n",
        "Optimize programming and scheduling to maximize viewer engagement and satisfaction.\n",
        "Strengthen targeted marketing efforts by leveraging audience insights to craft more compelling campaigns."
      ],
      "metadata": {
        "id": "DpeJGUA3kjGy"
      }
    },
    {
      "cell_type": "markdown",
      "source": [
        "#### **Define Your Business Objective?**"
      ],
      "metadata": {
        "id": "PH-0ReGfmX4f"
      }
    },
    {
      "cell_type": "markdown",
      "source": [
        "To leverage insights derived from analyzing the amazon titles and credits datasets to increase user engagement and subscriber retention by optimizing content strategy, personalization, and marketing efforts.\n",
        "\n",
        "This objective will be achieved by focusing on the following key areas:\n",
        "\n",
        "Content Acquisition and Production:\n",
        "\n",
        "Identify content gaps and emerging trends in genres, runtimes, and release years to inform content acquisition and production decisions.\n",
        "Guide investments in content that aligns with audience preferences and drives viewership.\n",
        "\n",
        "Personalization and Recommendations:\n",
        "\n",
        "Develop more effective recommendation systems by understanding user preferences for runtime, genre, cast, and other relevant factors.\n",
        "Increase user satisfaction and engagement by providing personalized content suggestions.\n",
        "\n",
        "Programming and Scheduling:\n",
        "\n",
        "Optimize content scheduling and programming by considering insights into viewer behavior and preferences for different types of content.\n",
        "Maximize viewership and engagement by offering the right content at the right time.\n",
        "\n",
        "Targeted Marketing and Promotion:\n",
        "\n",
        "Leverage insights into audience demographics, preferences, and viewing habits to develop more targeted marketing and promotional campaigns.\n",
        "Increase subscriber acquisition and retention by effectively promoting relevant content to the right audience segments.\n",
        "\n",
        "By achieving this business objective,amazon aims to:\n",
        "\n",
        "Strengthen its competitive position in the streaming entertainment market.\n",
        "Enhance user satisfaction and loyalty.\n",
        "Drive subscriber growth and retention.\n",
        "Maximize the return on investment in content acquisition and production."
      ],
      "metadata": {
        "id": "PhDvGCAqmjP1"
      }
    },
    {
      "cell_type": "markdown",
      "source": [
        "# **General Guidelines** : -  "
      ],
      "metadata": {
        "id": "mDgbUHAGgjLW"
      }
    },
    {
      "cell_type": "markdown",
      "source": [
        "1.   Well-structured, formatted, and commented code is required.\n",
        "2.   Exception Handling, Production Grade Code & Deployment Ready Code will be a plus. Those students will be awarded some additional credits.\n",
        "     \n",
        "     The additional credits will have advantages over other students during Star Student selection.\n",
        "       \n",
        "             [ Note: - Deployment Ready Code is defined as, the whole .ipynb notebook should be executable in one go\n",
        "                       without a single error logged. ]\n",
        "\n",
        "3.   Each and every logic should have proper comments.\n",
        "4. You may add as many number of charts you want. Make Sure for each and every chart the following format should be answered.\n",
        "        \n",
        "\n",
        "```\n",
        "# Chart visualization code\n",
        "```\n",
        "            \n",
        "\n",
        "*   Why did you pick the specific chart?\n",
        "*   What is/are the insight(s) found from the chart?\n",
        "* Will the gained insights help creating a positive business impact?\n",
        "Are there any insights that lead to negative growth? Justify with specific reason.\n",
        "\n",
        "5. You have to create at least 20 logical & meaningful charts having important insights.\n",
        "\n",
        "\n",
        "[ Hints : - Do the Vizualization in  a structured way while following \"UBM\" Rule.\n",
        "\n",
        "U - Univariate Analysis,\n",
        "\n",
        "B - Bivariate Analysis (Numerical - Categorical, Numerical - Numerical, Categorical - Categorical)\n",
        "\n",
        "M - Multivariate Analysis\n",
        " ]\n",
        "\n",
        "\n",
        "\n"
      ],
      "metadata": {
        "id": "ZrxVaUj-hHfC"
      }
    },
    {
      "cell_type": "markdown",
      "source": [
        "# ***Let's Begin !***"
      ],
      "metadata": {
        "id": "O_i_v8NEhb9l"
      }
    },
    {
      "cell_type": "markdown",
      "source": [
        "## ***1. Know Your Data***"
      ],
      "metadata": {
        "id": "HhfV-JJviCcP"
      }
    },
    {
      "cell_type": "markdown",
      "source": [
        "### Import Libraries"
      ],
      "metadata": {
        "id": "Y3lxredqlCYt"
      }
    },
    {
      "cell_type": "code",
      "source": [
        "# Import Libraries\n",
        "import pandas as pd\n",
        "import numpy as np\n",
        "import matplotlib.pyplot as plt\n",
        "import seaborn as sns"
      ],
      "metadata": {
        "id": "M8Vqi-pPk-HR"
      },
      "execution_count": null,
      "outputs": []
    },
    {
      "cell_type": "markdown",
      "source": [
        "### Dataset Loading"
      ],
      "metadata": {
        "id": "3RnN4peoiCZX"
      }
    },
    {
      "cell_type": "code",
      "source": [
        "# Load Dataset\n",
        "Titles_ds = pd.read_csv('titles.csv.zip')\n",
        "credits_ds = pd.read_csv('credits.csv.zip')\n"
      ],
      "metadata": {
        "id": "4CkvbW_SlZ_R"
      },
      "execution_count": null,
      "outputs": []
    },
    {
      "cell_type": "markdown",
      "source": [
        "### Dataset First View"
      ],
      "metadata": {
        "id": "x71ZqKXriCWQ"
      }
    },
    {
      "cell_type": "code",
      "source": [
        "# Dataset First Look\n",
        "print(Titles_ds.head())\n",
        "print(credits_ds.head())\n",
        "\n",
        "print(Titles_ds.tail())\n",
        "print(credits_ds.tail())\n"
      ],
      "metadata": {
        "id": "LWNFOSvLl09H"
      },
      "execution_count": null,
      "outputs": []
    },
    {
      "cell_type": "markdown",
      "source": [
        "### Dataset Rows & Columns count"
      ],
      "metadata": {
        "id": "7hBIi_osiCS2"
      }
    },
    {
      "cell_type": "code",
      "source": [
        "# Dataset Rows & Columns count\n",
        "print(Titles_ds.shape)\n",
        "print(credits_ds.shape)"
      ],
      "metadata": {
        "id": "Kllu7SJgmLij"
      },
      "execution_count": null,
      "outputs": []
    },
    {
      "cell_type": "markdown",
      "source": [
        "### Dataset Information"
      ],
      "metadata": {
        "id": "JlHwYmJAmNHm"
      }
    },
    {
      "cell_type": "code",
      "source": [
        "# Dataset Info\n",
        "print(Titles_ds.info())\n",
        "print(credits_ds.info())"
      ],
      "metadata": {
        "id": "e9hRXRi6meOf"
      },
      "execution_count": null,
      "outputs": []
    },
    {
      "cell_type": "markdown",
      "source": [
        "#### Duplicate Values"
      ],
      "metadata": {
        "id": "35m5QtbWiB9F"
      }
    },
    {
      "cell_type": "code",
      "source": [
        "# Dataset Duplicate Value Count\n",
        "print(Titles_ds.duplicated().sum())\n",
        "print(credits_ds.duplicated().sum())"
      ],
      "metadata": {
        "id": "1sLdpKYkmox0"
      },
      "execution_count": null,
      "outputs": []
    },
    {
      "cell_type": "markdown",
      "source": [
        "#### Missing Values/Null Values"
      ],
      "metadata": {
        "id": "PoPl-ycgm1ru"
      }
    },
    {
      "cell_type": "code",
      "source": [
        "# Missing Values/Null Values Count\n",
        "print(Titles_ds.isnull().sum())\n",
        "print(credits_ds.isnull().sum())"
      ],
      "metadata": {
        "id": "GgHWkxvamxVg"
      },
      "execution_count": null,
      "outputs": []
    },
    {
      "cell_type": "code",
      "source": [
        "# Visualizing the missing values\n",
        "plt.figure(figsize=(10, 6))\n",
        "sns.heatmap(Titles_ds.isnull(), cbar=False, cmap='viridis')\n",
        "plt.title('Missing Values Heatmap')\n",
        "plt.show()\n",
        "\n",
        "plt.figure(figsize=(10, 6))\n",
        "sns.heatmap(credits_ds.isnull(), cbar=False, cmap='viridis')\n",
        "plt.title('Missing Values Heatmap')\n",
        "plt.show()"
      ],
      "metadata": {
        "id": "3q5wnI3om9sJ"
      },
      "execution_count": null,
      "outputs": []
    },
    {
      "cell_type": "markdown",
      "source": [
        "### What did you know about your dataset?"
      ],
      "metadata": {
        "id": "H0kj-8xxnORC"
      }
    },
    {
      "cell_type": "markdown",
      "source": [
        "From the datasets;Titles and credits which consist of 9871 columns, 15 rows and 124235 column, 5 rows.Where,title consist of 3 and credits consists of 56 duplicates though in credidts actors names can be neglected wheather incase of title is not the case.There are a lot of duplicates and missing values can be identified.The missing pattern, errors and other values can be identifed through this heatmap.The character, age certification, season were the data which are missing mostly.\n",
        "\n"
      ],
      "metadata": {
        "id": "gfoNAAC-nUe_"
      }
    },
    {
      "cell_type": "markdown",
      "source": [
        "## ***2. Understanding Your Variables***"
      ],
      "metadata": {
        "id": "nA9Y7ga8ng1Z"
      }
    },
    {
      "cell_type": "code",
      "source": [
        "# Dataset Columns\n",
        "print(Titles_ds.columns)\n",
        "print(credits_ds.columns)"
      ],
      "metadata": {
        "id": "j7xfkqrt5Ag5"
      },
      "execution_count": null,
      "outputs": []
    },
    {
      "cell_type": "code",
      "source": [
        "# Dataset Describe\n",
        "print(Titles_ds.describe())\n",
        "print(credits_ds.describe())"
      ],
      "metadata": {
        "id": "DnOaZdaE5Q5t"
      },
      "execution_count": null,
      "outputs": []
    },
    {
      "cell_type": "markdown",
      "source": [
        "### Variables Description"
      ],
      "metadata": {
        "id": "PBTbrJXOngz2"
      }
    },
    {
      "cell_type": "markdown",
      "source": [
        "From Titles, id, title, type, description, release_year, age_certification, runtime, genres, production_countries, seasons, imdb_id, imdb_score, imdb_votes, tmdb_popularity, tmdb_score are the attributes which is to understand how the data of TV shows has been used.As for Credites,person_id,id,name,character, role are the attributes which explains the lead who has ever played that script.Hence, the duplicates can be neglected in the credicts because the same person can be the person who has been played on different roles."
      ],
      "metadata": {
        "id": "aJV4KIxSnxay"
      }
    },
    {
      "cell_type": "markdown",
      "source": [
        "### Check Unique Values for each variable."
      ],
      "metadata": {
        "id": "u3PMJOP6ngxN"
      }
    },
    {
      "cell_type": "code",
      "source": [
        "# Check Unique Values for each variable.\n",
        "print(Titles_ds.nunique())\n",
        "print(credits_ds.nunique())"
      ],
      "metadata": {
        "id": "zms12Yq5n-jE"
      },
      "execution_count": null,
      "outputs": []
    },
    {
      "cell_type": "markdown",
      "source": [
        "## 3. ***Data Wrangling***"
      ],
      "metadata": {
        "id": "dauF4eBmngu3"
      }
    },
    {
      "cell_type": "markdown",
      "source": [
        "### Data Wrangling Code"
      ],
      "metadata": {
        "id": "bKJF3rekwFvQ"
      }
    },
    {
      "cell_type": "code",
      "source": [
        "# Write your code to make your dataset analysis ready.\n",
        "#check for missing values\n",
        "print(Titles_ds.isnull().sum)\n",
        "print(credits_ds.isnull().sum)\n",
        "\n",
        "#drop missing values\n",
        "Titles_ds.dropna(inplace=True)\n",
        "credits_ds.dropna(inplace=True)\n",
        "\n",
        "#check for duplicates\n",
        "print(Titles_ds.duplicated().sum())\n",
        "print(credits_ds.duplicated().sum())\n",
        "\n",
        "# Convert 'release_year' to datetime objects\n",
        "Titles_ds['release_year'] = pd.to_datetime(Titles_ds['release_year'],\n",
        "                                        format='%Y', errors='ignore')\n",
        "\n",
        "\n",
        "# Convert 'imdb_score' to numeric\n",
        "Titles_ds['imdb_score'] = pd.to_numeric(Titles_ds['imdb_score'], errors='coerce')\n",
        "\n",
        "# Convert 'imdb_votes' to numeric\n",
        "Titles_ds['imdb_votes'] = pd.to_numeric(Titles_ds['imdb_votes'], errors='coerce')\n",
        "\n",
        "# Convert 'tmdb_score' to numeric\n",
        "Titles_ds['tmdb_score'] = pd.to_numeric(Titles_ds['tmdb_score'], errors='coerce')\n",
        "\n",
        "# Convert 'tmdb_popularity' to numeric\n",
        "Titles_ds['tmdb_popularity'] = pd.to_numeric(Titles_ds['tmdb_popularity'],\n",
        "                                             errors='coerce')\n",
        "\n",
        "# Convert 'runtime' to numeric if\n",
        "Titles_ds['runtime'] = pd.to_numeric(Titles_ds['runtime'], errors='coerce')\n",
        "\n",
        "# Convert 'seasons' to numeric if\n",
        "Titles_ds['seasons'] = pd.to_numeric(Titles_ds['seasons'], errors='coerce')\n",
        "\n",
        "# Assuming 'id' is of object type(string), convert it to numeric\n",
        "Titles_ds['id'] = pd.to_numeric(Titles_ds['id'], errors='coerce')\n",
        "credits_ds['id'] = pd.to_numeric(credits_ds['id'], errors='coerce')\n"
      ],
      "metadata": {
        "id": "wk-9a2fpoLcV"
      },
      "execution_count": null,
      "outputs": []
    },
    {
      "cell_type": "markdown",
      "source": [
        "### What all manipulations have you done and insights you found?"
      ],
      "metadata": {
        "id": "MSa1f5Uengrz"
      }
    },
    {
      "cell_type": "markdown",
      "source": [
        "Handling missing values, Handling duplicates, Type conversions are the manipulations done to check and remove the missing values, duplicates and also a type conversion is done here for the further use of these datasets."
      ],
      "metadata": {
        "id": "LbyXE7I1olp8"
      }
    },
    {
      "cell_type": "markdown",
      "source": [
        "## ***4. Data Vizualization, Storytelling & Experimenting with charts : Understand the relationships between variables***"
      ],
      "metadata": {
        "id": "GF8Ens_Soomf"
      }
    },
    {
      "cell_type": "markdown",
      "source": [
        "#### Chart - 1"
      ],
      "metadata": {
        "id": "0wOQAZs5pc--"
      }
    },
    {
      "cell_type": "code",
      "source": [
        "# Chart - 1 visualization code\n",
        "plt.figure(figsize=(20, 16))\n",
        "sns.barplot(x='release_year', y='runtime', data=titles_df, ci=None)\n",
        "plt.title('Average Runtime vs. Release Year')\n",
        "plt.xlabel('Release Year')\n",
        "plt.ylabel('Average Runtime (minutes)')\n",
        "plt.xticks(rotation=45, ha='right')  # Rotate x-axis labels for better readability\n",
        "plt.show()\n",
        "\n"
      ],
      "metadata": {
        "id": "7v_ESjsspbW7"
      },
      "execution_count": null,
      "outputs": []
    },
    {
      "cell_type": "markdown",
      "source": [
        "##### 1. Why did you pick the specific chart?"
      ],
      "metadata": {
        "id": "K5QZ13OEpz2H"
      }
    },
    {
      "cell_type": "markdown",
      "source": [
        "I chose a bar plot to visualize the relationship between the average runtime of titles and their release year for the\n",
        "Comparing Averages: Bar plots are excellent for comparing the average value of a numerical variable (runtime) across different categories (release years).\n",
        "Clear Trend Visualization: They make it easy to spot trends and patterns, such as whether runtime has increased or decreased over time.\n",
        "Readability: Bar plots are generally easy to understand and interpret, making them suitable for a wide audience."
      ],
      "metadata": {
        "id": "XESiWehPqBRc"
      }
    },
    {
      "cell_type": "markdown",
      "source": [
        "##### 2. What is/are the insight(s) found from the chart?"
      ],
      "metadata": {
        "id": "lQ7QKXXCp7Bj"
      }
    },
    {
      "cell_type": "markdown",
      "source": [
        " The bar plot will likely reveal the following information:\n",
        "Trend of Average Runtime: The plot will show how the average runtime of movies and shows has changed over the years. You might observe an increase or decrease in the average runtime.\n",
        "Variations: You'll be able to see if there are any particular years with unusually high or low average runtimes, indicating potential shifts in content preferences"
      ],
      "metadata": {
        "id": "C_j1G7yiqdRP"
      }
    },
    {
      "cell_type": "markdown",
      "source": [
        "##### 3. Will the gained insights help creating a positive business impact?\n",
        "Are there any insights that lead to negative growth? Justify with specific reason."
      ],
      "metadata": {
        "id": "448CDAPjqfQr"
      }
    },
    {
      "cell_type": "markdown",
      "source": [
        "Positive Impacts:\n",
        "\n",
        "Content Strategy: Understanding runtime trends can help streaming services like Netflix in making decisions about the types of content they produce or acquire. For example, if shorter runtimes are becoming more popular, they might focus on shorter series or movies.\n",
        "User Engagement: Insights into runtime preferences can be used to personalize recommendations for users, potentially leading to increased engagement and satisfaction.\n",
        "Scheduling and Programming: Knowing the average runtime of content can help in optimizing scheduling and programming decisions for TV channels or streaming platforms.\n",
        "\n",
        "Negative Impacts:\n",
        "\n",
        "Misinterpretation: The chart only shows the average runtime. There might be a wide variation in runtimes within a specific year, which is not captured in the bar plot. This could lead to making incorrect assumptions about user preferences if relied upon solely.\n",
        "Limited Scope: The chart focuses on runtime and release year. Other factors, such as genre, may also have a significant impact on user preferences and engagement, which are not accounted for in this visualization"
      ],
      "metadata": {
        "id": "3cspy4FjqxJW"
      }
    },
    {
      "cell_type": "markdown",
      "source": [
        "#### Chart - 2"
      ],
      "metadata": {
        "id": "KSlN3yHqYklG"
      }
    },
    {
      "cell_type": "code",
      "source": [
        "# Chart - 2 visualization code\n",
        "\n",
        "plt.figure(figsize=(20, 16))\n",
        "sns.histplot(data=titles_df, x='runtime', hue='seasons',\n",
        "             element='step', stat='density', common_norm=False)\n",
        "plt.title('Distribution of Runtime by Number of seasons')\n",
        "plt.xlabel('Runtime (minutes)')\n",
        "plt.ylabel('Density')\n",
        "plt.show()"
      ],
      "metadata": {
        "id": "R4YgtaqtYklH"
      },
      "execution_count": null,
      "outputs": []
    },
    {
      "cell_type": "markdown",
      "source": [
        "##### 1. Why did you pick the specific chart?"
      ],
      "metadata": {
        "id": "t6dVpIINYklI"
      }
    },
    {
      "cell_type": "markdown",
      "source": [
        "I chose a histogram with the 'step' element and 'density' stat for this visualization due to the following reasons:\n",
        "Distribution Comparison: Histograms are well-suited for visualizing and comparing distributions, especially when you want to see how a variable changes based on a categorical factor. In this case, we want to see how runtime distributions vary for different numbers of seasons.\n",
        "Density View: The density view ensures that when you have different numbers of shows for each season value, the distributions are normalized and easier to compare based on their shape and relative frequency.This avoids the visual distortion when comparing distributions with unequal numbers of data points.\n",
        "Overlapping Visualization: Using the 'step' element creates a step-style histogram, making it easier to see overlaps or differences between distributions. Unlike bars, the step form less likely masks the areas where distributions might overlap."
      ],
      "metadata": {
        "id": "5aaW0BYyYklI"
      }
    },
    {
      "cell_type": "markdown",
      "source": [
        "##### 2. What is/are the insight(s) found from the chart?"
      ],
      "metadata": {
        "id": "ijmpgYnKYklI"
      }
    },
    {
      "cell_type": "markdown",
      "source": [
        "The histogram helps us understand:\n",
        "\n",
        "Overall Runtime Distribution: It provides a general overview of how runtime is typically distributed for shows in the dataset, identifying whether short runtimes, long runtimes, or a mix of both are more common.\n",
        "Runtime Trends by Seasons: By visualizing separate distributions for each number of seasons using different colors (hue), we can see if shows with a certain number of seasons tend to have longer or shorter runtimes compared to others.\n",
        "Runtime Clusters: We might notice clusters or concentrated areas of runtime values within particular season groups. This could highlight preferred or standard runtime ranges for shows with a specific number of seasons.\n",
        "Outliers: The plot can also help identify any outliers or unusual runtime values for particular season categories. These unusual cases may warrant further investigation."
      ],
      "metadata": {
        "id": "PSx9atu2YklI"
      }
    },
    {
      "cell_type": "markdown",
      "source": [
        "##### 3. Will the gained insights help creating a positive business impact?\n",
        "Are there any insights that lead to negative growth? Justify with specific reason."
      ],
      "metadata": {
        "id": "-JiQyfWJYklI"
      }
    },
    {
      "cell_type": "markdown",
      "source": [
        "Positive Impacts:\n",
        "\n",
        "Content Strategy: Streaming services can gain insights into runtime patterns based on the number of seasons, which can help them with content planning and acquisition decisions. They might find that certain runtime ranges work better for specific genres or audience preferences, leading to better content creation choices.\n",
        "Programming and Scheduling: Understanding how runtime varies for different show lengths allows for better programming decisions, including content placement, slot allocation, and order for a more engaging viewing experience. This also has benefits for advertising and marketing.\n",
        "\n",
        "Negative Impacts:\n",
        "\n",
        "Oversimplification: While the plot provides insight, it's crucial to remember that runtime and season count are just two factors. Genre, target audience, story complexity, and production constraints also play roles. Decisions solely based on runtime and seasons can be misleading.\n",
        "Lack of Context: The visualization doesn't reveal the underlying reasons for observed runtime patterns. It simply shows the distributions, leaving space for interpretation, and potentially misleading conclusions, if not carefully analyzed along with other data points.\n",
        "Misinterpretation: It's easy to overemphasize small or subtle variations in the distributions, which could be due to chance or a relatively small number of shows in certain categories. Always consider the sample size and the magnitude of differences before drawing conclusions."
      ],
      "metadata": {
        "id": "BcBbebzrYklV"
      }
    },
    {
      "cell_type": "markdown",
      "source": [
        "#### Chart - 3"
      ],
      "metadata": {
        "id": "EM7whBJCYoAo"
      }
    },
    {
      "cell_type": "code",
      "source": [
        "# Chart - 3 visualization code\n",
        "\n",
        "plt.figure(figsize=(30, 15))\n",
        "sns.histplot(\n",
        "    data=titles_df,\n",
        "    x='runtime',\n",
        "    hue='genres',\n",
        "    bins=50,\n",
        "    kde=True,\n",
        "    element='step'\n",
        ")\n",
        "plt.title('Distribution of Runtime by Genre')\n",
        "plt.xlabel('Runtime (minutes)')\n",
        "plt.ylabel('Frequency')\n",
        "plt.xticks(rotation=45, ha='right')\n",
        "plt.show()"
      ],
      "metadata": {
        "id": "t6GMdE67YoAp"
      },
      "execution_count": null,
      "outputs": []
    },
    {
      "cell_type": "markdown",
      "source": [
        "##### 1. Why did you pick the specific chart?"
      ],
      "metadata": {
        "id": "fge-S5ZAYoAp"
      }
    },
    {
      "cell_type": "markdown",
      "source": [
        "I chose a histogram with the 'step' element and 'density' stat for this visualization due to the following reasons:\n",
        "\n",
        "Distribution Comparison: Histograms are effective for visualizing and comparing the distributions of a numerical variable across different categories. In this case,I want to see how the distribution of 'runtime' varies for different 'genres'.\n",
        "Density View: Using stat='density' normalizes the histogram so that the total area under the curve for each genre is 1. This makes it easier to compare the shapes of the distributions, even if the number of titles in each genre is different.\n",
        "Overlapping Visualization: The 'step' element creates a step-style histogram instead of filled bars. This is particularly useful when comparing distributions with many overlapping categories (like genres), as it makes it easier to see the differences and overlaps in the distributions.\n",
        "Kernel Density Estimate (KDE): Including kde=True adds a kernel density estimate plot, which provides a smoother representation of the distribution and can help highlight underlying patterns."
      ],
      "metadata": {
        "id": "5dBItgRVYoAp"
      }
    },
    {
      "cell_type": "markdown",
      "source": [
        "##### 2. What is/are the insight(s) found from the chart?"
      ],
      "metadata": {
        "id": "85gYPyotYoAp"
      }
    },
    {
      "cell_type": "markdown",
      "source": [
        "The histogram provides insights into the following:\n",
        "\n",
        "Overall Runtime Distribution: It gives a general overview of how 'runtime' is distributed across all titles in the dataset. You can see if shorter runtimes, longer runtimes, or a mix of both are more common.\n",
        "Runtime by Genre: By separating the data by 'genres' using the hue parameter, you can see how the distribution of runtime varies for different genres. This allows you to identify genres that tend to have longer or shorter runtimes compared to others.\n",
        "Overlaps and Differences: The step-style histogram and KDE make it easier to see where the distributions of different genres overlap or diverge. This can help you understand the similarities and differences in runtime preferences across genres.\n",
        "Potential Outliers: You might observe unusual or extreme runtime values for certain genres, which could be potential outliers. These outliers might warrant further investigation."
      ],
      "metadata": {
        "id": "4jstXR6OYoAp"
      }
    },
    {
      "cell_type": "markdown",
      "source": [
        "##### 3. Will the gained insights help creating a positive business impact?\n",
        "Are there any insights that lead to negative growth? Justify with specific reason."
      ],
      "metadata": {
        "id": "RoGjAbkUYoAp"
      }
    },
    {
      "cell_type": "markdown",
      "source": [
        "Positive Impacts:\n",
        "\n",
        "Content Programming and Recommendation: Understanding runtime preferences across genres can help streaming services and content providers make more informed decisions about programming and recommendations. For example, if a user enjoys a particular genre, the platform could recommend titles with runtimes typical for that genre.\n",
        "Content Acquisition and Production: Insights into runtime trends can inform content acquisition and production strategies. If a platform notices a growing preference for shorter-form content within a specific genre, they might focus on acquiring or producing more titles with shorter runtimes in that genre.\n",
        "Targeted Marketing: The visualization can help with targeted marketing efforts. Platforms can tailor their messaging and promotions based on runtime preferences within specific genres.\n",
        "\n",
        "Negative Impacts:\n",
        "\n",
        "Oversimplification: While the plot provides valuable insights, it's important to remember that runtime and genre are just two factors that influence viewer preferences. Other elements, such as plot, cast, and production quality, also play significant roles. Relying solely on runtime and genre for decision-making can be misleading.\n",
        "Lack of Context: The visualization doesn't explain the reasons behind the observed runtime patterns. It's crucial to consider other factors and conduct further analysis to understand the underlying causes.\n",
        "Misinterpretation: It's easy to misinterpret subtle variations or overlaps in the distributions, especially when dealing with many genres.\n"
      ],
      "metadata": {
        "id": "zfJ8IqMcYoAp"
      }
    },
    {
      "cell_type": "markdown",
      "source": [
        "#### Chart - 4"
      ],
      "metadata": {
        "id": "4Of9eVA-YrdM"
      }
    },
    {
      "cell_type": "code",
      "source": [
        "# Chart - 4 visualization code\n",
        "import matplotlib.pyplot as plt\n",
        "import seaborn as sns\n",
        "\n",
        "plt.figure(figsize=(8, 6))\n",
        "sns.boxplot(x='type', y='tmdb_score', data=titles_df)\n",
        "plt.title('Distribution of TMDb Score by Type (SHOW vs. MOVIE)')\n",
        "plt.xlabel('Type')\n",
        "plt.ylabel('TMDb Score')\n",
        "plt.show()"
      ],
      "metadata": {
        "id": "irlUoxc8YrdO"
      },
      "execution_count": null,
      "outputs": []
    },
    {
      "cell_type": "markdown",
      "source": [
        "##### 1. Why did you pick the specific chart?"
      ],
      "metadata": {
        "id": "iky9q4vBYrdO"
      }
    },
    {
      "cell_type": "markdown",
      "source": [
        "I chose a box plot for this visualization because it is well-suited for comparing the distributions of a numerical variable (TMDb score) across different categories (type: SHOW vs. MOVIE).\n",
        "\n",
        "Distribution Visualization: Box plots effectively display the key aspects of a distribution, including the median, quartiles, and potential outliers. This allows for a quick understanding of the typical TMDb score and its variability for each type.\n",
        "Comparison: Box plots facilitate easy comparison between categories by placing the boxes side-by-side. This makes it straightforward to see if there are differences in the central tendency or spread of TMDb scores between SHOWs and MOVIES.\n",
        "Outlier Detection: Box plots clearly highlight potential outliers, which can be valuable for identifying unusual data points that might require further investigation."
      ],
      "metadata": {
        "id": "aJRCwT6DYrdO"
      }
    },
    {
      "cell_type": "markdown",
      "source": [
        "##### 2. What is/are the insight(s) found from the chart?"
      ],
      "metadata": {
        "id": "F6T5p64dYrdO"
      }
    },
    {
      "cell_type": "markdown",
      "source": [
        "The box plot provides several insights into the distribution of TMDb scores by type:\n",
        "\n",
        "Central Tendency: The median line within each box indicates the typical TMDb score for that type. By comparing the medians, you can see if SHOWs or MOVIES tend to have higher or lower scores.\n",
        "Spread: The height of the box (interquartile range) represents the spread of the middle 50% of the data. A taller box indicates greater variability in TMDb scores for that type.\n",
        "Outliers: Points plotted outside the whiskers represent potential outliers, which are TMDb scores that are unusually high or low compared to the rest of the data for that type.\n",
        "Overall Distribution: The shape and position of the box and whiskers provide a visual representation of the overall distribution of TMDb scores for each type."
      ],
      "metadata": {
        "id": "Xx8WAJvtYrdO"
      }
    },
    {
      "cell_type": "markdown",
      "source": [
        "##### 3. Will the gained insights help creating a positive business impact?\n",
        "Are there any insights that lead to negative growth? Justify with specific reason."
      ],
      "metadata": {
        "id": "y-Ehk30pYrdP"
      }
    },
    {
      "cell_type": "markdown",
      "source": [
        "Positive Business Impacts:\n",
        "\n",
        "Content Strategy: The insights from the box plot can inform content strategy decisions. For example, if MOVIES tend to have higher TMDb scores, a streaming service might prioritize acquiring or producing more movies to attract viewers.\n",
        "Content Recommendation: Understanding the typical TMDb scores for different types can help with content recommendation systems. The platform could suggest content to users based on their preferences for SHOWs or MOVIES with certain score ranges.\n",
        "Marketing and Promotion: The insights can be used to tailor marketing and promotion efforts. For instance, highlighting the high TMDb scores of specific SHOWs or MOVIES can attract more viewers.\n",
        "\n",
        "Negative Business Impacts:\n",
        "\n",
        "Oversimplification: The box plot focuses solely on TMDb scores and type. Other factors, such as genre, release year, and cast, also influence viewer preferences. Relying solely on TMDb scores for decision-making could lead to an incomplete picture.\n",
        "Misinterpretation: Outliers can sometimes distort the interpretation of the box plot. It's essential to investigate the reasons behind outliers before drawing conclusions.\n",
        "Limited Actionability: While the box plot provides insights into differences in TMDb scores, it doesn't directly suggest specific actions. Further analysis and consideration of other factors are necessary to make informed business decisions."
      ],
      "metadata": {
        "id": "jLNxxz7MYrdP"
      }
    },
    {
      "cell_type": "markdown",
      "source": [
        "#### Chart - 5"
      ],
      "metadata": {
        "id": "bamQiAODYuh1"
      }
    },
    {
      "cell_type": "code",
      "source": [
        "#Chart- 5 visualization code\n",
        "from matplotlib import pyplot as plt\n",
        "titles_df['seasons'].plot(kind='hist', bins=20, title='seasons')\n",
        "plt.gca().spines[['top', 'right',]].set_visible(False)"
      ],
      "metadata": {
        "id": "TIJwrbroYuh3"
      },
      "execution_count": null,
      "outputs": []
    },
    {
      "cell_type": "markdown",
      "source": [
        "##### 1. Why did you pick the specific chart?"
      ],
      "metadata": {
        "id": "QHF8YVU7Yuh3"
      }
    },
    {
      "cell_type": "markdown",
      "source": [
        "A histogram is a great choice for visualizing the distribution of a single numerical variable, in this case, the number of seasons for TV shows in the Titles_ds DataFrame.\n",
        "Distribution: Histograms effectively show the frequency or count of data points within specific ranges (bins). It gives you a sense of the typical number of seasons, the spread of the data, and potential outliers.\n",
        "Easy Interpretation: Histograms are visually intuitive and easy for most audiences to understand. The x-axis represents the number of seasons, and the y-axis shows how many TV shows fall into each season range.\n",
        "The code creates a histogram with 20 bins, giving a reasonable level of detail to the distribution. Removing the top and right spines with plt.gca().spines[['top', 'right']].set_visible(False) is a stylistic choice that often makes the chart look cleaner."
      ],
      "metadata": {
        "id": "dcxuIMRPYuh3"
      }
    },
    {
      "cell_type": "markdown",
      "source": [
        "##### 2. What is/are the insight(s) found from the chart?"
      ],
      "metadata": {
        "id": "GwzvFGzlYuh3"
      }
    },
    {
      "cell_type": "markdown",
      "source": [
        "\n",
        "Most Common Season Length: The tallest bar(s) in the histogram will indicate the most frequent number of seasons for TV shows in the dataset.\n",
        "Distribution Skew: Is the distribution skewed to the right (more shows with fewer seasons) or left (more shows with many seasons)\n",
        "Outliers: Are there any unusually long or short TV shows in terms of the number of seasons? These might be represented by bars that are far away from the main cluster of data."
      ],
      "metadata": {
        "id": "uyqkiB8YYuh3"
      }
    },
    {
      "cell_type": "markdown",
      "source": [
        "##### 3. Will the gained insights help creating a positive business impact?\n",
        "Are there any insights that lead to negative growth? Justify with specific reason."
      ],
      "metadata": {
        "id": "qYpmQ266Yuh3"
      }
    },
    {
      "cell_type": "markdown",
      "source": [
        "Positive Impacts:\n",
        "\n",
        "Content Strategy: A streaming service could use this information to understand the typical lifespan of TV shows and plan their content acquisition or production accordingly. For example, if most shows have only 1-3 seasons, they might focus on shorter series.\n",
        "User Engagement: Understanding season length preferences can help personalize recommendations for users. If a user enjoys a show with 5 seasons, the platform might suggest other shows with a similar number of seasons.\n",
        "Marketing & Promotion: The insights can be used to target marketing efforts. For instance, highlighting the popularity of shows with a specific number of seasons could attract viewers who prefer that format.\n",
        "\n",
        "Negative Impacts:\n",
        "\n",
        "Misinterpretation: It's important to avoid oversimplifying the data. The histogram only shows season length; other factors like genre, ratings, and cast also influence a show's success.\n",
        "Limited Actionability: While the histogram provides valuable information, it doesn't directly suggest specific actions. Further analysis and consideration of other factors are necessary for informed decision-making.\n",
        "Content Bias: Focusing solely on season length could lead to content bias, neglecting shows with unique or unconventional formats."
      ],
      "metadata": {
        "id": "_WtzZ_hCYuh4"
      }
    },
    {
      "cell_type": "markdown",
      "source": [
        "#### Chart - 6"
      ],
      "metadata": {
        "id": "OH-pJp9IphqM"
      }
    },
    {
      "cell_type": "code",
      "source": [
        "# Chart - 6 visualization code\n",
        "titles_df = pd.read_csv('titles.csv.zip')\n",
        "def _plot_series(series, series_name, series_index=0):\n",
        "  palette = list(sns.palettes.mpl_palette('Dark2'))\n",
        "  xs = series['runtime']\n",
        "  ys = series['seasons']\n",
        "\n",
        "  plt.plot(xs, ys, label=series_name, color=palette[series_index % len(palette)])\n",
        "\n",
        "fig, ax = plt.subplots(figsize=(10, 6), layout='constrained')\n",
        "df_sorted = titles_df.sort_values('runtime', ascending=True)\n",
        "for i, (series_name, series) in enumerate(df_sorted.groupby('type')):\n",
        "  _plot_series(series, series_name, i)\n",
        "  fig.legend(title='type', bbox_to_anchor=(1, 1), loc='upper left')\n",
        "sns.despine(fig=fig, ax=ax)\n",
        "plt.xlabel('runtime')"
      ],
      "metadata": {
        "id": "kuRf4wtuphqN"
      },
      "execution_count": null,
      "outputs": []
    },
    {
      "cell_type": "markdown",
      "source": [
        "##### 1. Why did you pick the specific chart?"
      ],
      "metadata": {
        "id": "bbFf2-_FphqN"
      }
    },
    {
      "cell_type": "markdown",
      "source": [
        "The code creates a line plot visualizing the relationship between runtime and seasons for different types (likely 'SHOW' and 'MOVIE') within dataset.\n",
        "Relationship Visualization: Line plots are effective for displaying the relationship between two continuous variables. In this case, it shows how the number of seasons (seasons) might change with the runtime (runtime) of a show or movie.\n",
        "Comparison across Categories: By using different colors for each type, the plot allows for easy comparison of this relationship between shows and movies. This can help identify patterns or differences in how runtime and seasons are related for different content types.\n",
        "Trend Identification: Line plots can reveal trends, such as whether there's a positive or negative correlation between runtime and seasons for a specific content type"
      ],
      "metadata": {
        "id": "loh7H2nzphqN"
      }
    },
    {
      "cell_type": "markdown",
      "source": [
        "##### 2. What is/are the insight(s) found from the chart?"
      ],
      "metadata": {
        "id": "_ouA3fa0phqN"
      }
    },
    {
      "cell_type": "markdown",
      "source": [
        "Correlation: Observe the direction of the lines. An upward trend suggests a positive correlation (longer runtime associated with more seasons), while a downward trend indicates a negative correlation.\n",
        "Differences between Types: Compare the lines for 'SHOW' and 'MOVIE'. This could highlight how runtime and seasons relate differently for these content types.\n",
        "Clusters or Outliers: Look for any clusters of data points or any points that deviate significantly from the general trend. These could represent interesting patterns or outliers worth further investigation."
      ],
      "metadata": {
        "id": "VECbqPI7phqN"
      }
    },
    {
      "cell_type": "markdown",
      "source": [
        "##### 3. Will the gained insights help creating a positive business impact?\n",
        "Are there any insights that lead to negative growth? Justify with specific reason."
      ],
      "metadata": {
        "id": "Seke61FWphqN"
      }
    },
    {
      "cell_type": "markdown",
      "source": [
        "Positive Impacts:\n",
        "\n",
        "Content Planning: Understanding the relationship between runtime and seasons can guide content planning decisions. For example, if longer runtimes are associated with more seasons for shows, a streaming service might consider investing in shows with longer episodes to encourage multi-season engagement.\n",
        "User Recommendations: The insights could enhance recommendation systems. If a user enjoys a show with a specific runtime and season count, the platform could suggest similar shows with comparable characteristics.\n",
        "Content Acquisition: Streaming services can use this information to make more informed decisions about acquiring or producing content. They might prioritize shows or movies with runtimes and season lengths that align with viewer preferences.\n",
        "\n",
        "Negative Impacts:\n",
        "\n",
        "Oversimplification: The plot focuses on just two variables (runtime and seasons). Other factors like genre, cast, and plot significantly influence viewer engagement. Decisions based solely on this relationship could be misleading.\n",
        "Misinterpretation: It's crucial to avoid drawing overly strong conclusions about causality. The plot shows a correlation, but it doesn't necessarily imply that runtime directly causes a certain number of seasons.\n",
        "Limited Actionability: While the plot provides insights, it doesn't offer specific recommendations. Further analysis and consideration of other factors are needed for actionable strategies."
      ],
      "metadata": {
        "id": "DW4_bGpfphqN"
      }
    },
    {
      "cell_type": "markdown",
      "source": [
        "#### Chart - 7"
      ],
      "metadata": {
        "id": "PIIx-8_IphqN"
      }
    },
    {
      "cell_type": "code",
      "source": [
        "# Chart - 7 visualization code\n",
        "from matplotlib import pyplot as plt\n",
        "titles_df['seasons'].plot(kind='line', figsize=(8, 4), title='seasons')\n",
        "plt.gca().spines[['top', 'right']].set_visible(False)"
      ],
      "metadata": {
        "id": "lqAIGUfyphqO"
      },
      "execution_count": null,
      "outputs": []
    },
    {
      "cell_type": "markdown",
      "source": [
        "##### 1. Why did you pick the specific chart?"
      ],
      "metadata": {
        "id": "t27r6nlMphqO"
      }
    },
    {
      "cell_type": "markdown",
      "source": [
        "I chose a line plot for this visualization due to the following reasons:\n",
        "\n",
        "Data Structure: A line plot is suitable for visualizing the trend or pattern of a single variable (in this case, 'seasons') over its index (likely the show IDs or a chronological order if 'Titles_ds' is time-based).\n",
        "Trend Analysis: Line plots are excellent for showing how a variable changes over time or across a sequence. It helps in understanding the general trend, whether the number of seasons is increasing, decreasing, or remaining relatively constant.\n",
        "Simplicity and Clarity: Line plots are easy to understand and convey information clearly, making it suitable for a quick overview of the data."
      ],
      "metadata": {
        "id": "iv6ro40sphqO"
      }
    },
    {
      "cell_type": "markdown",
      "source": [
        "##### 2. What is/are the insight(s) found from the chart?"
      ],
      "metadata": {
        "id": "r2jJGEOYphqO"
      }
    },
    {
      "cell_type": "markdown",
      "source": [
        "The line plot of 'seasons' would likely reveal the following insights:\n",
        "\n",
        "Trend of Seasons: It shows how the number of seasons for shows in the dataset is distributed over the index (show IDs or time). You can observe if there's an overall increase, decrease, or a cyclical pattern in the number of seasons.\n",
        "Outliers: Any unusual spikes or drops in the line could represent shows with significantly more or fewer seasons compared to the general trend. These might be outliers worth further investigation.\n",
        "Seasonality: If there is a time component to your index (e.g., release year), the line plot might show patterns or cycles in the number of seasons released over time."
      ],
      "metadata": {
        "id": "Po6ZPi4hphqO"
      }
    },
    {
      "cell_type": "markdown",
      "source": [
        "##### 3. Will the gained insights help creating a positive business impact?\n",
        "Are there any insights that lead to negative growth? Justify with specific reason."
      ],
      "metadata": {
        "id": "b0JNsNcRphqO"
      }
    },
    {
      "cell_type": "markdown",
      "source": [
        "Positive Impacts:\n",
        "\n",
        "Content Strategy: Understanding the trend of seasons can inform content strategy decisions. If there's a growing preference for shows with fewer seasons, streaming services might consider acquiring or producing more limited series.\n",
        "User Engagement: The insights can help personalize recommendations for users. If a user enjoys a show with a specific number of seasons, the platform could suggest other shows with a similar season count.\n",
        "\n",
        "Negative Impacts:\n",
        "\n",
        "Oversimplification: The line plot focuses only on the 'seasons' variable. Other factors like genre, ratings, and cast also influence a show's success. Decisions based solely on the number of seasons might not be comprehensive.\n",
        "Misinterpretation: It's essential to avoid assuming causality. The line plot shows a trend but doesn't necessarily imply that the number of seasons directly influences viewership or success.\n",
        "Limited Actionability: The insights, while valuable, may not provide specific action steps. Further analysis and consideration of other factors are necessary for making business decisions."
      ],
      "metadata": {
        "id": "xvSq8iUTphqO"
      }
    },
    {
      "cell_type": "markdown",
      "source": [
        "#### Chart - 8"
      ],
      "metadata": {
        "id": "BZR9WyysphqO"
      }
    },
    {
      "cell_type": "code",
      "source": [
        "# Chart - 8 visualization code\n",
        "titles_df['release_year'].plot(kind='line', figsize=(8, 4), title='release_year')\n",
        "plt.gca().spines[['top', 'right']].set_visible(False)"
      ],
      "metadata": {
        "id": "TdPTWpAVphqO"
      },
      "execution_count": null,
      "outputs": []
    },
    {
      "cell_type": "markdown",
      "source": [
        "##### 1. Why did you pick the specific chart?"
      ],
      "metadata": {
        "id": "jj7wYXLtphqO"
      }
    },
    {
      "cell_type": "markdown",
      "source": [
        "I chose a line plot for this visualization because it effectively shows the trend of a single variable over time. In this case, it visualizes how the release_year of titles in the dataset changes over the index (which is likely an implicit index representing the order of titles in DataFrame).\n",
        "\n",
        "Trend Visualization: Line plots are great for displaying trends and patterns over time, making it easy to see if the release years are generally increasing, decreasing, or staying consistent.\n",
        "Data Structure: Line plots are well-suited for visualizing how a numerical variable (release_year) changes across a sequence or over an index.\n",
        "Simplicity and Clarity: Line plots are visually intuitive and easy to understand, providing a clear overview of the data."
      ],
      "metadata": {
        "id": "Ob8u6rCTphqO"
      }
    },
    {
      "cell_type": "markdown",
      "source": [
        "##### 2. What is/are the insight(s) found from the chart?"
      ],
      "metadata": {
        "id": "eZrbJ2SmphqO"
      }
    },
    {
      "cell_type": "markdown",
      "source": [
        "The line plot of 'release_year' would likely reveal the following insights:\n",
        "\n",
        "Trend of Release Years: It shows how the release years of titles in dataset are distributed. You can observe if there's an overall increase (more recent releases), decrease (older releases), or a cyclical pattern in the release years.\n",
        "Outliers: Any unusual spikes or drops in the line could represent titles with release years that significantly deviate from the general trend. These might be outliers worth further investigation.\n",
        "Release Patterns: You might see patterns or cycles in the release years, indicating periods with more or fewer title releases. This could be due to various factors like industry trends or historical events"
      ],
      "metadata": {
        "id": "mZtgC_hjphqO"
      }
    },
    {
      "cell_type": "markdown",
      "source": [
        "##### 3. Will the gained insights help creating a positive business impact?\n",
        "Are there any insights that lead to negative growth? Justify with specific reason."
      ],
      "metadata": {
        "id": "rFu4xreNphqO"
      }
    },
    {
      "cell_type": "markdown",
      "source": [
        "Positive Impacts:\n",
        "\n",
        "Content Acquisition: Streaming services can use the trend of release years to make decisions about acquiring older or newer content. If there's a growing demand for classic titles, they might focus on acquiring older films and shows.\n",
        "Content Recommendation: Understanding release year patterns could help personalize recommendations. If a user enjoys movies from a specific era, the platform could suggest similar titles released around the same time.\n",
        "Content Strategy: Insights into release trends can inform content strategy. If there's a gap in releases from a certain period, streaming services might consider producing content to fill that niche.\n",
        "Negative Impacts:\n",
        "\n",
        "Oversimplification: The line plot focuses solely on the 'release_year' variable. Other factors like genre, popularity, and critical reception also influence a title's success. Decisions based solely on release year might not be comprehensive.\n",
        "Misinterpretation: It's essential to avoid assuming causality. The line plot shows a trend but doesn't necessarily imply that release year directly influences viewership or success.\n",
        "Limited Actionability: While the insights are valuable, they may not directly translate into specific actions. Further analysis and consideration of other factors are necessary for making informed business decisions."
      ],
      "metadata": {
        "id": "ey_0qi68phqO"
      }
    },
    {
      "cell_type": "markdown",
      "source": [
        "#### Chart - 9"
      ],
      "metadata": {
        "id": "YJ55k-q6phqO"
      }
    },
    {
      "cell_type": "code",
      "source": [
        "# Chart - 9 visualization code\n",
        "titles_df = pd.read_csv('titles.csv.zip')\n",
        "figsize = (12, 1.2 * len(titles_df['type'].unique()))\n",
        "plt.figure(figsize=figsize)\n",
        "sns.violinplot(titles_df, x='runtime', y='type', inner='box', palette='Dark2')\n",
        "sns.despine(top=True, right=True, bottom=True, left=True)"
      ],
      "metadata": {
        "id": "B2aS4O1ophqO"
      },
      "execution_count": null,
      "outputs": []
    },
    {
      "cell_type": "markdown",
      "source": [
        "##### 1. Why did you pick the specific chart?"
      ],
      "metadata": {
        "id": "gCFgpxoyphqP"
      }
    },
    {
      "cell_type": "markdown",
      "source": [
        "A violin plot is chosen here to visualize the distribution of the runtime variable for different type categories (likely \"SHOW\" and \"MOVIE\") in dataset. Here's why it's a suitable choice:\n",
        "\n",
        "Distribution Visualization: Violin plots are excellent for showing the distribution of a numerical variable (runtime) across different categories (type). They provide a richer view of the data compared to box plots by displaying the density of data points at different values.\n",
        "Comparison: Violin plots make it easy to compare the distributions of runtime between different types. You can see if one type tends to have longer or shorter runtimes, as well as the overall shape and spread of the distributions.\n",
        "Density Estimation: The shape of the violin plot represents the kernel density estimate of the data, giving you a sense of where data points are concentrated and where they are sparse.\n",
        "Box Plot Integration: The inner='box' argument adds a box plot inside the violin plot, providing additional information about the median, quartiles, and potential outliers.\n"
      ],
      "metadata": {
        "id": "TVxDimi2phqP"
      }
    },
    {
      "cell_type": "markdown",
      "source": [
        "##### 2. What is/are the insight(s) found from the chart?"
      ],
      "metadata": {
        "id": "OVtJsKN_phqQ"
      }
    },
    {
      "cell_type": "markdown",
      "source": [
        "\n",
        "By examining the violin plot, you can gain insights like:\n",
        "\n",
        "Runtime Distribution by Type: You can see how the runtime is distributed for each type (SHOW or MOVIE). Are runtimes concentrated around a particular value, or are they more spread out? Are there multiple peaks in the distribution, suggesting different typical runtimes?\n",
        "Comparison between Types: Compare the shapes and positions of the violins for different types. Does one type tend to have longer or shorter runtimes? Are the distributions similar or different in terms of their spread and central tendency?\n",
        "Median and Quartiles: The box plot inside the violin provides information about the median (central line), quartiles (box edges), and potential outliers (points outside the whiskers). This gives a quick overview of the typical runtime and its variability for each type.\n",
        "Density: The width of the violin at different runtime values indicates the density of data points. Wider sections represent higher concentrations of data, while narrower sections indicate lower density."
      ],
      "metadata": {
        "id": "ngGi97qjphqQ"
      }
    },
    {
      "cell_type": "markdown",
      "source": [
        "##### 3. Will the gained insights help creating a positive business impact?\n",
        "Are there any insights that lead to negative growth? Justify with specific reason."
      ],
      "metadata": {
        "id": "lssrdh5qphqQ"
      }
    },
    {
      "cell_type": "markdown",
      "source": [
        "Positive Impacts:\n",
        "\n",
        "Content Strategy: Understanding how runtime varies for different content types can help streaming services make informed decisions about what types of content to acquire or produce. For example, if movies tend to have longer runtimes and shows have shorter ones, they might adjust their content mix accordingly.\n",
        "User Recommendations: Violin plots can provide insights that can be used to improve recommendation systems. By understanding the typical runtime preferences for different types of viewers, streaming services can recommend content that better aligns with their preferences.\n",
        "Marketing and Promotion: The insights from the violin plot can inform marketing strategies. For instance, if a particular type of content has a wide range of runtimes, marketing materials could highlight the variety of options available to viewers.\n",
        "\n",
        "Negative Impacts:\n",
        "\n",
        "Oversimplification: Violin plots, like any visualization, can oversimplify complex data. Runtime is just one factor that influences viewer preferences, and other elements like genre, plot, and cast also play significant roles.\n",
        "Misinterpretation: Without careful interpretation, it's possible to misinterpret the information presented in the violin plot. Understanding the concepts of density estimation, median, quartiles, and outliers is crucial for drawing accurate conclusions.\n",
        "Limited Actionability: While violin plots provide insights, they don't always offer specific recommendations. Further analysis and consideration of other factors are necessary for making actionable business decisions."
      ],
      "metadata": {
        "id": "tBpY5ekJphqQ"
      }
    },
    {
      "cell_type": "markdown",
      "source": [
        "#### Chart - 10"
      ],
      "metadata": {
        "id": "U2RJ9gkRphqQ"
      }
    },
    {
      "cell_type": "code",
      "source": [
        "# Chart - 10 visualization code\n",
        "\n",
        "titles_df = pd.read_csv('titles.csv.zip')\n",
        "\n",
        "def _plot_series(series, series_name, series_index=0):\n",
        "  palette = list(sns.palettes.mpl_palette('Dark2'))\n",
        "  xs = series['runtime']\n",
        "  ys = series['imdb_score']\n",
        "\n",
        "  plt.plot(xs, ys, label=series_name, color=palette[series_index % len(palette)])\n",
        "\n",
        "fig, ax = plt.subplots(figsize=(10, 5.2), layout='constrained')\n",
        "df_sorted = titles_df.sort_values('runtime', ascending=True)\n",
        "for i, (series_name, series) in enumerate(df_sorted.groupby('type')):\n",
        "  _plot_series(series, series_name, i)\n",
        "  fig.legend(title='type', bbox_to_anchor=(1, 1), loc='upper left')\n",
        "sns.despine(fig=fig, ax=ax)\n",
        "plt.xlabel('runtime')\n",
        "_ = plt.ylabel('imdb_score')"
      ],
      "metadata": {
        "id": "GM7a4YP4phqQ"
      },
      "execution_count": null,
      "outputs": []
    },
    {
      "cell_type": "markdown",
      "source": [
        "##### 1. Why did you pick the specific chart?"
      ],
      "metadata": {
        "id": "1M8mcRywphqQ"
      }
    },
    {
      "cell_type": "markdown",
      "source": [
        "The code creates a line plot visualizing the relationship between runtime and IMDb score for different types within the dataset. Here's why it's a suitable choice:\n",
        "\n",
        "Relationship Visualization: Line plots are effective for displaying the relationship between two continuous variables. In this case, it shows how the IMDb score (imdb_score) might change with the runtime (runtime) of a show or movie.\n",
        "Comparison across Categories: By using different colors for each type, the plot allows for easy comparison of this relationship between shows and movies. This can help identify patterns or differences in how runtime and IMDb score are related for different content types.\n",
        "Trend Identification: Line plots can reveal trends, such as whether there's a positive or negative correlation between runtime and IMDb score for a specific content type."
      ],
      "metadata": {
        "id": "8agQvks0phqQ"
      }
    },
    {
      "cell_type": "markdown",
      "source": [
        "##### 2. What is/are the insight(s) found from the chart?"
      ],
      "metadata": {
        "id": "tgIPom80phqQ"
      }
    },
    {
      "cell_type": "markdown",
      "source": [
        "Correlation: Observe the direction of the lines. An upward trend suggests a positive correlation (longer runtime associated with higher IMDb scores), while a downward trend indicates a negative correlation.\n",
        "Differences between Types: Compare the lines for 'SHOW' and 'MOVIE'. This could highlight how runtime and IMDb score relate differently for these content types. For example, do longer movies tend to have higher IMDb scores compared to longer shows?\n",
        "Clusters or Outliers: Look for any clusters of data points or any points that deviate significantly from the general trend. These could represent interesting patterns or outliers worth further investigation."
      ],
      "metadata": {
        "id": "Qp13pnNzphqQ"
      }
    },
    {
      "cell_type": "markdown",
      "source": [
        "##### 3. Will the gained insights help creating a positive business impact?\n",
        "Are there any insights that lead to negative growth? Justify with specific reason."
      ],
      "metadata": {
        "id": "JMzcOPDDphqR"
      }
    },
    {
      "cell_type": "markdown",
      "source": [
        "Positive Impacts:\n",
        "\n",
        "Content Acquisition and Production: Streaming services can use this information to make decisions about acquiring or producing content. If longer runtimes are associated with higher IMDb scores for a particular type, they might prioritize content with those characteristics.\n",
        "User Recommendations: Insights into the relationship between runtime and IMDb score could improve recommendation systems. If a user enjoys shows or movies with specific runtime and IMDb score ranges, the platform can suggest similar titles.\n",
        "Content Programming: Understanding how runtime and IMDb score are related for different types can help with content programming decisions. This information could influence how content is scheduled or presented to viewers.\n",
        "Negative Impacts:\n",
        "\n",
        "Oversimplification: The plot focuses on just two variables (runtime and IMDb score). Many other factors, like genre, cast, and plot, influence viewer preferences and critical reception.\n",
        "Misinterpretation: It's important to avoid drawing overly strong conclusions about causality. The plot shows a correlation, but it doesn't necessarily imply that runtime directly causes a certain IMDb score.\n",
        "Limited Actionability: While the plot provides insights, it doesn't offer specific recommendations. Further analysis and consideration of other factors are needed for actionable strategies."
      ],
      "metadata": {
        "id": "R4Ka1PC2phqR"
      }
    },
    {
      "cell_type": "markdown",
      "source": [
        "#### Chart - 11"
      ],
      "metadata": {
        "id": "x-EpHcCOp1ci"
      }
    },
    {
      "cell_type": "code",
      "source": [
        "# Chart - 11 visualization code\n",
        "titles_df = pd.read_csv('titles.csv.zip')\n",
        "titles_df['imdb_score'].plot(kind='line', figsize=(8, 4), title='imdb_score')\n",
        "plt.gca().spines[['top', 'right']].set_visible(False)"
      ],
      "metadata": {
        "id": "mAQTIvtqp1cj"
      },
      "execution_count": null,
      "outputs": []
    },
    {
      "cell_type": "markdown",
      "source": [
        "##### 1. Why did you pick the specific chart?"
      ],
      "metadata": {
        "id": "X_VqEhTip1ck"
      }
    },
    {
      "cell_type": "markdown",
      "source": [
        "A line plot was chosen to visualize the 'imdb_score' because:\n",
        "\n",
        "Trend Visualization: Line plots are excellent for displaying trends and patterns over time or across a sequence. In this case, it shows how the IMDb scores of titles in the dataset change over the index (which is likely an implicit index representing the order of titles in the DataFrame).\n",
        "Data Structure: It's suitable for visualizing how a numerical variable (imdb_score) changes across a sequence.\n",
        "Simplicity and Clarity: Line plots are generally easy to understand, providing a clear overview of the data."
      ],
      "metadata": {
        "id": "-vsMzt_np1ck"
      }
    },
    {
      "cell_type": "markdown",
      "source": [
        "##### 2. What is/are the insight(s) found from the chart?"
      ],
      "metadata": {
        "id": "8zGJKyg5p1ck"
      }
    },
    {
      "cell_type": "markdown",
      "source": [
        "Trend of IMDb Scores: It shows how the IMDb scores of titles in the dataset are distributed. You might observe an overall increase (higher scores over time), decrease (lower scores over time), or fluctuations in the scores.\n",
        "Outliers: Any unusual spikes or drops in the line could represent titles with IMDb scores that significantly deviate from the general trend. These might be exceptionally well-received or poorly-received titles.\n",
        "Score Patterns: You might see patterns or cycles in the IMDb scores, indicating periods with higher or lower average scores. This could reflect changes in content quality or audience preferences over time."
      ],
      "metadata": {
        "id": "ZYdMsrqVp1ck"
      }
    },
    {
      "cell_type": "markdown",
      "source": [
        "##### 3. Will the gained insights help creating a positive business impact?\n",
        "Are there any insights that lead to negative growth? Justify with specific reason."
      ],
      "metadata": {
        "id": "PVzmfK_Ep1ck"
      }
    },
    {
      "cell_type": "markdown",
      "source": [
        "Positive Impacts:\n",
        "\n",
        "Content Acquisition: Streaming services could use the trend of IMDb scores to make decisions about acquiring content. If higher scores are associated with specific genres or release years, they might prioritize acquiring titles with those characteristics.\n",
        "Content Recommendation: The insights could enhance recommendation systems. If a user enjoys titles with high IMDb scores, the platform could suggest similar titles with comparable scores.\n",
        "Content Strategy: Understanding score patterns can inform content strategy. If there's a decline in average scores, streaming services might investigate the reasons and adjust their content production or acquisition strategies.\n",
        "Negative Impacts:\n",
        "\n",
        "Oversimplification: The line plot focuses solely on the 'imdb_score' variable. Other factors like genre, popularity, and critical reception also influence a title's success. Decisions based solely on IMDb scores might not be comprehensive.\n",
        "Misinterpretation: It's important to avoid assuming causality. The line plot shows a trend but doesn't necessarily imply that IMDb scores directly influence viewership or success.\n",
        "Limited Actionability: While the insights are valuable, they may not directly translate into specific actions. Further analysis and consideration of other factors are necessary for making informed business decisions"
      ],
      "metadata": {
        "id": "druuKYZpp1ck"
      }
    },
    {
      "cell_type": "markdown",
      "source": [
        "#### Chart - 12"
      ],
      "metadata": {
        "id": "n3dbpmDWp1ck"
      }
    },
    {
      "cell_type": "code",
      "source": [
        "# Chart - 12 visualization code\n",
        "titles_df = pd.read_csv('titles.csv.zip')\n",
        "titles_df.plot(kind='scatter', x='imdb_score', y='imdb_votes', s=32, alpha=.8) # Changed Titles_df to titles_df\n",
        "plt.gca().spines[['top', 'right',]].set_visible(False)"
      ],
      "metadata": {
        "id": "bwevp1tKp1ck"
      },
      "execution_count": null,
      "outputs": []
    },
    {
      "cell_type": "markdown",
      "source": [
        "##### 1. Why did you pick the specific chart?"
      ],
      "metadata": {
        "id": "ylSl6qgtp1ck"
      }
    },
    {
      "cell_type": "markdown",
      "source": [
        "A scatter plot was chosen to visualize the relationship between 'imdb_score' and 'imdb_votes' because:\n",
        "\n",
        "Relationship Visualization: Scatter plots are ideal for showing the relationship between two numerical variables. In this case, it helps you see how the IMDb score and the number of IMDb votes for titles in your dataset are related.\n",
        "Pattern Identification: They allow you to identify patterns, trends, clusters, or outliers in the data. You can observe if there's a correlation (positive, negative, or none) between the two variables.\n",
        "Data Distribution: Scatter plots provide a visual representation of the distribution of data points across the two variables. You can see how densely or sparsely the points are scattered."
      ],
      "metadata": {
        "id": "m2xqNkiQp1ck"
      }
    },
    {
      "cell_type": "markdown",
      "source": [
        "##### 2. What is/are the insight(s) found from the chart?"
      ],
      "metadata": {
        "id": "ZWILFDl5p1ck"
      }
    },
    {
      "cell_type": "markdown",
      "source": [
        "he scatter plot could reveal the following insights:\n",
        "\n",
        "Correlation: You can observe if there's a correlation between IMDb score and IMDb votes. A positive correlation would suggest that titles with higher scores tend to have more votes, while a negative correlation would indicate the opposite.\n",
        "Clusters: You might identify clusters of titles with similar scores and vote counts. These clusters could represent specific genres, release years, or other characteristics.\n",
        "Outliers: Titles that fall far away from the main cluster of points could be outliers. These outliers might be exceptionally popular or unpopular titles that deserve further investigation.\n",
        "Data Density: The density of points in different areas of the plot can indicate where most titles fall in terms of score and votes"
      ],
      "metadata": {
        "id": "x-lUsV2mp1ck"
      }
    },
    {
      "cell_type": "markdown",
      "source": [
        "##### 3. Will the gained insights help creating a positive business impact?\n",
        "Are there any insights that lead to negative growth? Justify with specific reason."
      ],
      "metadata": {
        "id": "M7G43BXep1ck"
      }
    },
    {
      "cell_type": "markdown",
      "source": [
        "Positive Impacts:\n",
        "\n",
        "Content Recommendation: Understanding the relationship between score and votes can enhance recommendation systems. Platforms could suggest titles with similar scores and vote counts to users who have enjoyed a particular title.\n",
        "Content Acquisition: Streaming services could use this information to make decisions about acquiring content. If higher scores are associated with more votes, they might prioritize acquiring titles with high scores and potential for popularity.\n",
        "Content Strategy: The insights could inform content strategy. If there's a correlation between score and votes, platforms might focus on producing high-quality content that is likely to attract more viewers and votes.\n",
        "Negative Impacts:\n",
        "\n",
        "Oversimplification: The scatter plot focuses only on two variables. Other factors like genre, release year, and critical reception also influence a title's success. Decisions based solely on IMDb score and votes might not be comprehensive.\n",
        "Misinterpretation: It's crucial to avoid assuming causality. Correlation does not imply causation. A positive correlation between score and votes does not necessarily mean that higher scores directly cause more votes.\n",
        "Limited Actionability: While the scatter plot provides valuable insights, it doesn't offer specific recommendations. Further analysis and consideration of other factors are needed for actionable strategies."
      ],
      "metadata": {
        "id": "5wwDJXsLp1cl"
      }
    },
    {
      "cell_type": "markdown",
      "source": [
        "#### Chart - 13"
      ],
      "metadata": {
        "id": "Ag9LCva-p1cl"
      }
    },
    {
      "cell_type": "code",
      "source": [
        "# Chart - 13 visualization code\n",
        "titles_df = pd.read_csv('titles.csv.zip')\n",
        "\n",
        "# Filter for movies and shows with age certifications and runtimes\n",
        "filtered_df = titles_df[titles_df['age_certification'].notna() & titles_df['runtime'].notna()]\n",
        "\n",
        "# Create the box plot\n",
        "plt.figure(figsize=(20, 10))\n",
        "sns.boxplot(x='age_certification', y='runtime', data=filtered_df)\n",
        "plt.title('Runtime Distribution by Age Certification')\n",
        "plt.xlabel('Age Certification')\n",
        "plt.ylabel('Runtime (minutes)')\n",
        "plt.xticks(rotation=45, ha='right')\n",
        "plt.show()"
      ],
      "metadata": {
        "id": "EUfxeq9-p1cl"
      },
      "execution_count": null,
      "outputs": []
    },
    {
      "cell_type": "markdown",
      "source": [
        "##### 1. Why did you pick the specific chart?"
      ],
      "metadata": {
        "id": "E6MkPsBcp1cl"
      }
    },
    {
      "cell_type": "markdown",
      "source": [
        "A box plot is chosen for this visualization because it effectively displays the distribution of a numerical variable (runtime) across different categories (age certification).\n",
        "Distribution Comparison: Box plots are excellent for comparing the distributions of a numerical variable across different categories. They provide a clear visual representation of the central tendency, spread, and potential outliers for each category.\n",
        "Identifying Differences: Box plots make it easy to identify differences in the typical runtime (median) and the variability of runtime (interquartile range) for different age certifications.\n",
        "Outlier Detection: Box plots clearly highlight potential outliers – runtimes that are unusually long or short for a given age certification.\n",
        "Easy Interpretation: Box plots are generally easy to understand and interpret, making them suitable for a wide audience."
      ],
      "metadata": {
        "id": "V22bRsFWp1cl"
      }
    },
    {
      "cell_type": "markdown",
      "source": [
        "##### 2. What is/are the insight(s) found from the chart?"
      ],
      "metadata": {
        "id": "2cELzS2fp1cl"
      }
    },
    {
      "cell_type": "markdown",
      "source": [
        "The insights you'll gain from the box plot depend on the specific data and the patterns observed in the boxes, whiskers, and outliers.\n",
        "Median Runtime: The line inside each box represents the median runtime for that age certification. Comparing the medians across different age certifications can reveal differences in typical runtimes.\n",
        "Runtime Variability: The height of the box (interquartile range) represents the spread or variability of runtimes within each age certification category. A taller box indicates greater variability.\n",
        "Outliers: Points plotted outside the whiskers represent potential outliers – runtimes that are unusually long or short for a given age certification. These outliers might warrant further investigation.\n",
        "Overall Distribution: The shape and position of the box and whiskers provide a visual representation of the overall distribution of runtimes for each age certification.\n",
        "Example Insights (hypothetical, based on typical movie data):\n",
        "\n",
        "You might observe that movies rated 'R' tend to have longer median runtimes compared to movies rated 'PG' or 'G'.\n",
        "You might find that movies rated 'PG-13' have a wider range of runtimes (larger interquartile range) compared to movies rated 'G', indicating greater variability in runtime for PG-13 movies.\n",
        "You might see some outliers in the 'G' category, representing movies that are unusually long for a 'G' rating."
      ],
      "metadata": {
        "id": "ozQPc2_Ip1cl"
      }
    },
    {
      "cell_type": "markdown",
      "source": [
        "##### 3. Will the gained insights help creating a positive business impact?\n",
        "Are there any insights that lead to negative growth? Justify with specific reason."
      ],
      "metadata": {
        "id": "3MPXvC8up1cl"
      }
    },
    {
      "cell_type": "markdown",
      "source": [
        "Positive Impacts:\n",
        "\n",
        "Content Strategy: Streaming services can use the insights from the box plot to understand runtime expectations for different age groups and tailor their content acquisition and production strategies accordingly.\n",
        "Recommendation Systems: The box plot can help improve recommendation systems by providing insights into runtime preferences based on age certifications.\n",
        "Targeted Marketing: The insights can be used to tailor marketing efforts. For example, promoting the shorter runtimes of 'G' rated movies to families with young children.\n",
        "Content Understanding: The box plot helps understand how age certifications might influence the length of movies or shows, providing valuable insights for content categorization and user segmentation.\n",
        "Negative Impacts:\n",
        "\n",
        "Oversimplification: While the box plot provides valuable insights, it's important to remember that runtime and age certification are just two factors that influence viewer preferences. Other elements, such as genre, plot, and cast, also play significant roles.\n",
        "Misinterpretation: Without careful interpretation, it's possible to misinterpret the information presented in the box plot. Understanding the concepts of median, interquartile range, and outliers is crucial for drawing accurate conclusions.\n",
        "Limited Actionability: While the box plot provides insights, it doesn't always offer specific recommendations. Further analysis and consideration of other factors are necessary for making actionable business decisions.\n"
      ],
      "metadata": {
        "id": "GL8l1tdLp1cl"
      }
    },
    {
      "cell_type": "markdown",
      "source": [
        "#### Chart - 14 - Correlation Heatmap"
      ],
      "metadata": {
        "id": "NC_X3p0fY2L0"
      }
    },
    {
      "cell_type": "code",
      "source": [
        "# Correlation Heatmap visualization code\n",
        "titles_df = pd.read_csv('titles.csv.zip')\n",
        "credits_df = pd.read_csv('credits.csv.zip')\n",
        "merged_df = pd.merge(titles_df, credits_df, on='id', how='inner')\n",
        "# Include numeric_only=True to select only numerical features for correlation\n",
        "correlation_matrix = merged_df.corr(numeric_only=True)\n",
        "plt.figure(figsize=(12, 10))  # Adjust figure size as needed\n",
        "sns.heatmap(correlation_matrix, annot=True, cmap='coolwarm', fmt=\".2f\")\n",
        "plt.title('Correlation Heatmap')\n",
        "plt.show()"
      ],
      "metadata": {
        "id": "xyC9zolEZNRQ"
      },
      "execution_count": null,
      "outputs": []
    },
    {
      "cell_type": "markdown",
      "source": [
        "##### 1. Why did you pick the specific chart?"
      ],
      "metadata": {
        "id": "UV0SzAkaZNRQ"
      }
    },
    {
      "cell_type": "markdown",
      "source": [
        "A correlation heatmap is chosen to visualize the relationships between numerical variables in the merged dataset (merged_df). Here's why it's a suitable choice:\n",
        "\n",
        "Relationship Visualization: Heatmaps are great for displaying the correlation coefficients between multiple variables in a compact and visually intuitive way.\n",
        "Pattern Identification: The color-coded cells allow for quick identification of strong positive (red), strong negative (blue), and weak or no correlations (lighter colors).\n",
        "Overall View: It provides a comprehensive overview of the relationships within the data, making it easier to spot potential patterns and dependencies"
      ],
      "metadata": {
        "id": "DVPuT8LYZNRQ"
      }
    },
    {
      "cell_type": "markdown",
      "source": [
        "##### 2. What is/are the insight(s) found from the chart?"
      ],
      "metadata": {
        "id": "YPEH6qLeZNRQ"
      }
    },
    {
      "cell_type": "markdown",
      "source": [
        "The insights you'll gain from the correlation heatmap depend on the specific data and the resulting correlation coefficients.\n",
        "Strong Positive Correlation: Cells with dark red colors indicate a strong positive correlation between two variables. This means that as one variable increases, the other tends to increase as well (e.g., runtime and seasons might have a positive correlation).\n",
        "Strong Negative Correlation: Cells with dark blue colors indicate a strong negative correlation. This means that as one variable increases, the other tends to decrease (e.g., release year and IMDb score might have a negative correlation if older movies tend to have lower scores).\n",
        "Weak or No Correlation: Cells with lighter colors or white indicate a weak or no correlation. This means there is little to no relationship between the two variables.\n",
        "\n",
        "You might observe a positive correlation between imdb_score and tmdb_score, suggesting that movies rated highly on IMDb tend to be rated highly on TMDb as well.\n",
        "You might find a negative correlation between release_year and runtime, indicating that newer movies might have shorter runtimes compared to older ones.\n",
        "You might see a weak or no correlation between imdb_votes and tmdb_popularity, meaning the number of votes on IMDb may not strongly influence the popularity of a movie on TMDb."
      ],
      "metadata": {
        "id": "bfSqtnDqZNRR"
      }
    },
    {
      "cell_type": "markdown",
      "source": [
        "#### Chart - 15 - Pair Plot"
      ],
      "metadata": {
        "id": "q29F0dvdveiT"
      }
    },
    {
      "cell_type": "code",
      "source": [
        "# Pair Plot visualization code\n",
        "titles_df = pd.read_csv('titles.csv.zip')\n",
        "credits_df = pd.read_csv('credits.csv.zip')\n",
        "\n",
        "# Merge the datasets\n",
        "merged_df = pd.merge(titles_df, credits_df, on='id', how='inner')\n",
        "\n",
        "# Select numerical features for the pair plot\n",
        "numerical_features = ['release_year', 'runtime', 'seasons', 'imdb_score',\n",
        "                      'imdb_votes', 'tmdb_popularity', 'tmdb_score']\n",
        "\n",
        "\n",
        "# Create the pair plot\n",
        "sns.pairplot(merged_df[numerical_features])\n",
        "plt.suptitle('Pair Plot of Numerical Features', y=1.02)\n",
        "plt.show()"
      ],
      "metadata": {
        "id": "o58-TEIhveiU"
      },
      "execution_count": null,
      "outputs": []
    },
    {
      "cell_type": "markdown",
      "source": [
        "##### 1. Why did you pick the specific chart?"
      ],
      "metadata": {
        "id": "EXh0U9oCveiU"
      }
    },
    {
      "cell_type": "markdown",
      "source": [
        "A pair plot is chosen to visualize the relationships between numerical variables in the merged dataset (merged_df). Here's why it's a suitable choice:\n",
        "\n",
        "Relationship and Distribution Visualization: Pair plots combine scatter plots and histograms (or kernel density estimates) to provide a comprehensive view of both relationships and distributions of multiple numerical variables.\n",
        "Pattern Identification: The scatter plots in the off-diagonal cells allow for quick identification of correlations (positive, negative, or no correlation) between pairs of variables.\n",
        "Distribution Insights: The histograms or kernel density estimates on the diagonal provide insights into the spread, central tendency, and potential outliers of each individual variable.\n",
        "Overall Exploration: Pair plots are excellent for exploratory data analysis, helping to gain a quick understanding of the relationships and distributions within a dataset."
      ],
      "metadata": {
        "id": "eMmPjTByveiU"
      }
    },
    {
      "cell_type": "markdown",
      "source": [
        "##### 2. What is/are the insight(s) found from the chart?"
      ],
      "metadata": {
        "id": "22aHeOlLveiV"
      }
    },
    {
      "cell_type": "markdown",
      "source": [
        "The insights you'll gain from the pair plot depend on the specific data and the patterns observed in the scatter plots and histograms.\n",
        "\n",
        "Scatter Plots (Off-Diagonal):\n",
        "Positive Correlation: Points tend to cluster in an upward-sloping pattern. This indicates that as one variable increases, the other tends to increase as well.\n",
        "Negative Correlation: Points tend to cluster in a downward-sloping pattern. This indicates that as one variable increases, the other tends to decrease.\n",
        "No Correlation: Points appear randomly scattered, suggesting little to no relationship between the variables.\n",
        "Histograms/KDEs (Diagonal):\n",
        "Distribution Shape: The shape of the histogram or KDE gives you an idea of the distribution of the variable (e.g., normal, skewed, uniform).\n",
        "Central Tendency: The peak of the histogram or KDE represents the most frequent or typical value of the variable.\n",
        "Spread: The width of the histogram or KDE indicates the variability or spread of the data.\n",
        "Outliers: Unusual or extreme values that are far away from the main cluster of data points might be outliers.\n",
        "Example Insights (hypothetical, based on typical movie data):\n",
        "\n",
        "You might observe a positive correlation between imdb_score and tmdb_score in the corresponding scatter plot, suggesting that movies rated highly on IMDb tend to be rated highly on TMDb as well.\n",
        "You might find a negative correlation between release_year and runtime in their scatter plot, indicating that newer movies might have shorter runtimes compared to older ones.\n",
        "The histogram for imdb_votes might be right-skewed, indicating that most movies have a relatively low number of votes, while a few movies have a very high number of votes."
      ],
      "metadata": {
        "id": "uPQ8RGwHveiV"
      }
    },
    {
      "cell_type": "markdown",
      "source": [
        "## **5. Solution to Business Objective**"
      ],
      "metadata": {
        "id": "JcMwzZxoAimU"
      }
    },
    {
      "cell_type": "markdown",
      "source": [
        "#### What do you suggest the client to achieve Business Objective ?\n",
        "Explain Briefly."
      ],
      "metadata": {
        "id": "8G2x9gOozGDZ"
      }
    },
    {
      "cell_type": "markdown",
      "source": [
        "Based on the insights derived from analyzing the amazon titles and credits datasets, we recommend a multi-faceted approach to increase user engagement and subscriber retention. Firstly, refine content acquisition and production strategies by prioritizing high-performing genres, addressing content gaps, and optimizing content length based on viewer preferences and runtime trends. This will ensure a diverse and engaging content library that caters to a broad audience. Secondly, enhance personalization by incorporating insights into user preferences for genre, runtime, cast, and other relevant factors into recommendation algorithms. This will deliver tailored content suggestions, increasing user satisfaction and driving content discovery. Thirdly, optimize programming and scheduling by considering viewer behavior and preferences when organizing content releases and promotions. This includes promoting binge-worthy content, offering curated collections, and leveraging A/B testing to identify optimal scheduling strategies. Fourthly, strengthen targeted marketing efforts by segmenting audiences based on preferences and personalizing marketing messages to resonate with individual interests. Utilize social media and influencers to reach target demographics and leverage data-driven insights to optimize campaign performance. Finally, establish a culture of ongoing monitoring and analysis to continuously track viewer engagement metrics, refresh data insights, and ensure data-driven decision-making across all departments. By implementing these strategies, Amazon can effectively leverage data insights to optimize content offerings, enhance personalization, and strengthen marketing efforts, leading to increased user engagement, subscriber retention, and sustained competitive advantage in the dynamic streaming entertainment market."
      ],
      "metadata": {
        "id": "pASKb0qOza21"
      }
    },
    {
      "cell_type": "markdown",
      "source": [
        "# **Conclusion**"
      ],
      "metadata": {
        "id": "gCX9965dhzqZ"
      }
    },
    {
      "cell_type": "markdown",
      "source": [
        "This Exploratory Data Analysis of Amazon titles has revealed valuable insights into content trends, viewer preferences, and areas for potential business optimization. By systematically analyzing the datasets and employing various visualization techniques, we have identified key trends in runtime, release year, genre preferences, and the relationship between these factors and audience engagement. These insights empower Amazon to refine its content acquisition and production strategies, enhance personalization through tailored recommendations, optimize programming and scheduling for maximum viewership, and strengthen targeted marketing efforts. By embracing a data-driven approach and implementing the recommendations outlined, Amazon can strengthen its competitive position, enhance user satisfaction, and drive subscriber growth and retention in the dynamic and evolving streaming entertainment landscape. This analysis serves as a foundation for informed decision-making and continuous improvement, ensuring amazon remains a leader in providing captivating and personalized entertainment experiences for its global audience."
      ],
      "metadata": {
        "id": "Fjb1IsQkh3yE"
      }
    },
    {
      "cell_type": "markdown",
      "source": [
        "### ***Hurrah! You have successfully completed your EDA Capstone Project !!!***"
      ],
      "metadata": {
        "id": "gIfDvo9L0UH2"
      }
    }
  ]
}